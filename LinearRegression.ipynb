{
 "cells": [
  {
   "cell_type": "markdown",
   "metadata": {},
   "source": [
    "# Linear Regression\n",
    "\n",
    "Lets assume that we have $N$ observation and $M$ features. The problem of linear regression is defined as:\n",
    "\n",
    "$$\\vec{y}_p = \\boldsymbol{X} \\vec{w},$$\n",
    "* $\\vec{y}_p$, a vector of size $N$, represents our predictions. \n",
    "* $\\boldsymbol{X}$ is a matrix of $(N\\times M)$. \n",
    "* $\\vec{w}$ is the fitting parameters, its our job to find them.\n",
    "\n",
    "Let measure how good are predictions are, we use Mean Squared Error (MSE) to calculate the distance of our predictions from true values:\n",
    "\n",
    "$$J = (\\vec{y}_p - \\vec{y}_t)^2$$\n",
    "\n",
    "* $\\vec{y}_t$ is a vector of true values. \n",
    "* $J$ is MSE and it is an scalar.\n",
    "\n",
    "Now our job is to find $\\vec{w}$ in such a way that it minimizes the cost function. Here we are going to use Stochastic Gradient Descent (SGD) to do that. \n",
    "\n"
   ]
  },
  {
   "cell_type": "code",
   "execution_count": 38,
   "metadata": {},
   "outputs": [],
   "source": [
    "import numpy as np\n",
    "import matplotlib.pyplot as plt"
   ]
  },
  {
   "cell_type": "code",
   "execution_count": 2,
   "metadata": {},
   "outputs": [],
   "source": [
    "def mse(y_t, y_p):\n",
    "    '''returns the mean squared error.\n",
    "    Parameters\n",
    "    ----------\n",
    "    y_t : numpy array, shape (n_samples,) \n",
    "        True labels.\n",
    "    y_p : numpy array (float), shape (n_samples,)\n",
    "        Output of classifier (not lables).\n",
    "    \n",
    "    Returns\n",
    "    -------\n",
    "    float\n",
    "        Returns MSE.\n",
    "    \n",
    "    Example\n",
    "    -------\n",
    "    >>> import numpy as np\n",
    "    >>> t = np.array([-1,1,1])\n",
    "    >>> y = np.array([1,-1,0])\n",
    "    >>> mse(t, y)\n",
    "    3.0\n",
    "    '''\n",
    "    d = y_t-y_p\n",
    "    return np.dot(d,d)/d.size"
   ]
  },
  {
   "cell_type": "code",
   "execution_count": 3,
   "metadata": {},
   "outputs": [],
   "source": [
    "def d_mse(X, y_t, y_p):\n",
    "    '''\n",
    "    Gradient of mean squared error. \n",
    "\n",
    "    Parameters\n",
    "    ----------\n",
    "    X : numpy array, shape (n_smaples, n_features)\n",
    "        Matrix of features.    \n",
    "    y_t : numpy array, shape (n_samples,)\n",
    "        True labels.\n",
    "    y_p : numpy array (float), shape (n_samples,)\n",
    "        Output of classifier (not lables).\n",
    "    \n",
    "    Returns\n",
    "    -------\n",
    "    numpy array, shape (n_features,)\n",
    "        Returns the gradient of MSE.\n",
    "    \n",
    "    Example\n",
    "    -------\n",
    "    >>> import numpy as np\n",
    "    >>> X = np.array([[-1,-1],[1,1],[0,1]])\n",
    "    >>> y_t = np.array([-1,1,1])\n",
    "    >>> y_p = np.array([1,0,1])\n",
    "    >>> d_mse(X, y_t, y_p)\n",
    "    array([-2., -2.])\n",
    "    '''\n",
    "    \n",
    "    d = y_p-y_t\n",
    "    return 2*X.T.dot(d)/d.size\n",
    "    "
   ]
  },
  {
   "cell_type": "code",
   "execution_count": 119,
   "metadata": {},
   "outputs": [],
   "source": [
    "def l2(w):\n",
    "    '''\n",
    "    Return l2 penalty. \n",
    "    w : weights of the model, a numpy vector of (n_features)\n",
    "    '''\n",
    "    return np.dot(w,w)\n",
    "\n",
    "def d_l2(w):\n",
    "    '''\n",
    "    Return gradient of l2 penalty.\n",
    "    w : weights of the model, a numpy vector of (n_features)\n",
    "    '''\n",
    "    return 2*w\n"
   ]
  },
  {
   "cell_type": "code",
   "execution_count": 177,
   "metadata": {},
   "outputs": [],
   "source": [
    "def l1(w):\n",
    "    '''\n",
    "    Return l2 penalty. \n",
    "    w : weights of the model, a numpy vector of (n_features)\n",
    "    '''\n",
    "    return np.abs(w).sum()\n",
    "\n",
    "def d_l1(w):\n",
    "    '''\n",
    "    Return gradient of l2 penalty.\n",
    "    w : weights of the model, a numpy vector of (n_features)\n",
    "    '''\n",
    "    return 2*(w>0).astype(float)-1\n"
   ]
  },
  {
   "cell_type": "code",
   "execution_count": 178,
   "metadata": {},
   "outputs": [],
   "source": [
    "def GD(X, y_t, eta=0.0001, alpha=0.1, epoches=10000, tol=10**-15):\n",
    "    '''\n",
    "    Gradient Descent learning. \n",
    "    \n",
    "    The default loss function is MSE and the default penalty is l2. \n",
    "    \n",
    "    If the test set is provided, it keeps running until the cost stop decreasing. \n",
    "    If the test set is not provided, it keeps running until the improvment in the cost is less than **tol**.\n",
    "    \n",
    "    Parameters\n",
    "    ----------\n",
    "    eta: float \n",
    "        Learning rate, default to 0.0001.\n",
    "        \n",
    "    alpha: float\n",
    "        Regularization parameter, defaults to 1.0\n",
    "            \n",
    "    epoches: int\n",
    "        number of epoches to train, defaults to 1000.\n",
    "            \n",
    "    tol: float \n",
    "        Stop training if the improvment in cost function is less than tol (when test set is not provided). \n",
    "        Defaults to 0.00001.\n",
    "\n",
    "    Returns\n",
    "    -------\n",
    "    numpy array, shape (n_features,)\n",
    "        Returns the weights (fitting parameters).\n",
    "        \n",
    "    Example\n",
    "    -------\n",
    "    >>> import numpy as np\n",
    "    >>> X = np.array([[1, 1], [1, 3]])\n",
    "    >>> y_t = np.array([3, 7])\n",
    "    >>> GD(X, y_t, eta=0.01, alpha=0.0, epoches=10000)\n",
    "    array([ 1.,  2.])\n",
    "    '''\n",
    "    w = np.random.normal(size=X.shape[1])\n",
    "    for n in range(epoches):\n",
    "        y_p = np.dot(X,w)\n",
    "        d = eta * d_mse(X,y_t,y_p) + alpha * d_l1(w) \n",
    "        w -= d\n",
    "        if np.abs(d).max()< tol:\n",
    "            break\n",
    "    return w"
   ]
  },
  {
   "cell_type": "code",
   "execution_count": 179,
   "metadata": {},
   "outputs": [
    {
     "data": {
      "text/plain": [
       "TestResults(failed=0, attempted=13)"
      ]
     },
     "execution_count": 179,
     "metadata": {},
     "output_type": "execute_result"
    }
   ],
   "source": [
    "import doctest\n",
    "doctest.testmod()"
   ]
  },
  {
   "cell_type": "code",
   "execution_count": 97,
   "metadata": {},
   "outputs": [],
   "source": [
    "def SGD(X, y_t, eta=0.00001, alpha=1.0, b = 100, epoches=1000, tol=0.00001):\n",
    "    '''\n",
    "    mini-batch Stochastic Gradient Descent learning. \n",
    "    \n",
    "    The default loss function is MSE and the default penalty is l2. \n",
    "    \n",
    "    If the test set is provided, it keeps running until the cost stop decreasing. \n",
    "    If the test set is not provided, it keeps running until the improvment in the cost is less than **tol**.\n",
    "    \n",
    "    Parameters\n",
    "    ----------\n",
    "    eta: float \n",
    "        Learning rate, default to 0.0001.\n",
    "        \n",
    "    alpha: float\n",
    "        Regularization parameter, defaults to 1.0\n",
    "        \n",
    "    b: int \n",
    "        batch size, defaults to 100.\n",
    "    \n",
    "    epoches: int\n",
    "        number of epoches to train, defaults to 1000.\n",
    "    \n",
    "    normalize: bool\n",
    "        True: normalize data by mean and std (default).\n",
    "        False: do not change the data.\n",
    "        \n",
    "    tol: float \n",
    "        Stop training if the improvment in cost function is less than tol (when test set is not provided). \n",
    "        Defaults to 0.00001.\n",
    "\n",
    "    Returns\n",
    "    -------\n",
    "    numpy array, shape (n_features,)\n",
    "        Returns the weights (fitting parameters).\n",
    "        \n",
    "    Example\n",
    "    -------\n",
    "    >>> import numpy as np\n",
    "    ... (write your test heere.)\n",
    "    '''\n",
    "    "
   ]
  },
  {
   "cell_type": "markdown",
   "metadata": {},
   "source": [
    "Now consider a simple linear model $y =  x + 1$. Given x, this gives us the true value of $y$, ($y_t$). \n",
    "Generate some $x$ and $y$ pairs, use your code to infer fitting parameters. Plot the ground truth $y = x +1$ and your fitted model for the interval of $x \\in [-2,2]$."
   ]
  },
  {
   "cell_type": "code",
   "execution_count": 88,
   "metadata": {},
   "outputs": [
    {
     "name": "stdout",
     "output_type": "stream",
     "text": [
      "[[ 1.         -0.90026535]\n",
      " [ 1.         -0.46187449]\n",
      " [ 1.         -0.23634976]\n",
      " [ 1.          0.28248007]]\n",
      "[ 0.61742004  1.17193473  0.11682354  1.49462491]\n",
      "[ 0.90181993  0.16779013]\n",
      "MSE on training set: 0.540454012939\n",
      "MSE on testing set: 0.979295822154\n"
     ]
    },
    {
     "data": {
      "image/png": "[encoded data removed]",
      "text/plain": [
       "<matplotlib.figure.Figure at 0x7f5ce8bcafd0>"
      ]
     },
     "metadata": {},
     "output_type": "display_data"
    }
   ],
   "source": [
    "N_train = 30\n",
    "X_train = np.ones((N_train,2))\n",
    "X_train[:,1] = np.random.uniform(size=X_train.shape[0])*4-2\n",
    "y_train = 1 + X_train[:,1] + 0.5*np.random.normal(size=X_train.shape[0])\n",
    "\n",
    "print(X_train[:4,:])\n",
    "print(y_train[:4])\n",
    "\n",
    "N_test = 30\n",
    "X_test = np.ones((N_test,2))\n",
    "X_test[:,1] = np.random.uniform(size=X_test.shape[0])*4-2\n",
    "y_test = 1 + X_test[:,1] + 0.5*np.random.normal(size=X_test.shape[0])\n",
    "\n",
    "\n",
    "X = np.ones((100,2))\n",
    "X[:,1] = np.linspace(-2,2,100)\n",
    "y_theory = 1+X[:,1]\n",
    "plt.plot(X[:,1], y_theory)\n",
    "\n",
    "plt.plot(X_train[:,1], y_train, '.')\n",
    "\n",
    "w = GD(X_train, y_train)\n",
    "print(w)\n",
    "\n",
    "y_model = np.dot(X,w)\n",
    "plt.plot(X[:,1], y_model)\n",
    "\n",
    "plt.legend(['Theory', 'Train', 'Model'])\n",
    "plt.xlabel('X')\n",
    "plt.ylabel('y')\n",
    "\n",
    "print('MSE on training set:',mse(y_train, np.dot(X_train,w)))\n",
    "print('MSE on testing set:',mse(y_test, np.dot(X_test,w)))"
   ]
  },
  {
   "cell_type": "code",
   "execution_count": 89,
   "metadata": {},
   "outputs": [
    {
     "name": "stdout",
     "output_type": "stream",
     "text": [
      "[[ 1.          0.72907818  0.53155499]\n",
      " [ 1.          1.69368009  2.86855225]\n",
      " [ 1.         -1.92822367  3.71804652]\n",
      " [ 1.         -0.86358521  0.74577941]]\n",
      "[ 0.63794672  2.01028952  6.72834572  3.27072323]\n",
      "[ 0.56157111 -0.84348304  1.32432299]\n",
      "MSE on training set: 0.337398088469\n",
      "MSE on testing set: 3.62963162681\n"
     ]
    },
    {
     "data": {
      "image/png": "[encoded data removed]",
      "text/plain": [
       "<matplotlib.figure.Figure at 0x7f5ce8be1b00>"
      ]
     },
     "metadata": {},
     "output_type": "display_data"
    }
   ],
   "source": [
    "N_train = 30\n",
    "X_train = np.ones((N_train,3))\n",
    "X_train[:,1] = np.random.uniform(size=X_train.shape[0])*4-2\n",
    "X_train[:,2] = X_train[:,1]**2\n",
    "y_train = 1 - X_train[:,1] + X_train[:,2] + 0.5*np.random.normal(size=X_train.shape[0])\n",
    "\n",
    "print(X_train[:4,:])\n",
    "print(y_train[:4])\n",
    "\n",
    "\n",
    "N_test = 30\n",
    "X_test = np.ones((N_test,3))\n",
    "X_test[:,1] = np.random.uniform(size=X_test.shape[0])*4-2\n",
    "X_test[:,2] = X_test[:,1]**2\n",
    "\n",
    "y_test = 1 + X_test[:,1] -X_test[:,1]+ 0.5*np.random.normal(size=X_test.shape[0])\n",
    "\n",
    "\n",
    "X = np.ones((100,3))\n",
    "X[:,1] = np.linspace(-2,2,100)\n",
    "X[:,2] = X[:,1]**2\n",
    "y_theory = 1-X[:,1]+ X[:,2]\n",
    "plt.plot(X[:,1], y_theory)\n",
    "\n",
    "plt.plot(X_train[:,1], y_train, '.')\n",
    "\n",
    "w = GD(X_train, y_train)\n",
    "print(w)\n",
    "\n",
    "y_model = np.dot(X,w)\n",
    "plt.plot(X[:,1], y_model)\n",
    "\n",
    "plt.legend(['Theory', 'Train', 'Model'])\n",
    "plt.xlabel('X')\n",
    "plt.ylabel('y')\n",
    "\n",
    "print('MSE on training set:',mse(y_train, np.dot(X_train,w)))\n",
    "print('MSE on testing set:',mse(y_test, np.dot(X_test,w)))\n"
   ]
  },
  {
   "cell_type": "code",
   "execution_count": 182,
   "metadata": {},
   "outputs": [
    {
     "name": "stdout",
     "output_type": "stream",
     "text": [
      "[[  1.00000000e+00  -4.94673447e-01   2.44701819e-01  -1.21047492e-01\n",
      "    5.98789802e-02  -2.96205416e-02]\n",
      " [  1.00000000e+00  -1.87074170e-01   3.49967452e-02  -6.54698708e-03\n",
      "    1.22477218e-03  -2.29123239e-04]\n",
      " [  1.00000000e+00  -4.25419801e-01   1.80982007e-01  -7.69933294e-02\n",
      "    3.27544868e-02  -1.39344073e-02]\n",
      " [  1.00000000e+00  -7.77258359e-01   6.04130557e-01  -4.69565525e-01\n",
      "    3.64973730e-01  -2.83678882e-01]]\n",
      "[ 0.5572545   0.99047337  0.63807984  0.35363299]\n",
      "nonlinear [ 0.99708122  0.63727215  0.06163064  0.00769891 -0.35475106  0.7745514 ]\n",
      "l2 [  8.60997057e-01   4.07296306e-01  -6.70403007e-06   3.31728005e-01\n",
      "   9.53134839e-06   1.03144124e-05]\n",
      "linear [-0.0329351  -0.06844026]\n",
      "MSE on training set (non linear without l2): 0.0158276544555\n",
      "MSE on testing set (non linear without l2): 89.6633174829\n",
      "MSE on training set (non linear with l2): 0.0423936050522\n",
      "MSE on testing set (non linear with l2): 0.549561486841\n",
      "MSE on training set (linear): 0.867665031763\n",
      "MSE on testing set (linear): 3.50532482181\n"
     ]
    },
    {
     "data": {
      "image/png": "[encoded data removed]",
      "text/plain": [
       "<matplotlib.figure.Figure at 0x7f5ce8a8d940>"
      ]
     },
     "metadata": {},
     "output_type": "display_data"
    }
   ],
   "source": [
    "N_train = 20\n",
    "n_features = 6\n",
    "X_train = np.ones((N_train, n_features))\n",
    "X_train[:,1] = np.random.uniform(size=X_train.shape[0])*2-1\n",
    "y_train = 1 + X_train[:,1] + 0.1*np.random.normal(size=X_train.shape[0])\n",
    "\n",
    "for i in range(2, n_features):\n",
    "    X_train[:,i] = X_train[:,i-1]*X_train[:,1]\n",
    "\n",
    "\n",
    "print(X_train[:4,:])\n",
    "print(y_train[:4])\n",
    "\n",
    "N_test = 30\n",
    "X_test = np.ones((N_test,n_features))\n",
    "X_test[:,1] = np.random.uniform(size=X_test.shape[0])*4-2\n",
    "y_test = 1 + X_test[:,1] + 0.5*np.random.normal(size=X_test.shape[0])\n",
    "\n",
    "for i in range(2, n_features):\n",
    "    X_test[:,i] = X_test[:,i-1]*X_test[:,1]\n",
    "\n",
    "\n",
    "X = np.ones((100,n_features))\n",
    "X[:,1] = np.linspace(-1,1,100)\n",
    "y_theory = 1+X[:,1]\n",
    "\n",
    "for i in range(2, n_features):\n",
    "    X[:,i] = X[:,i-1]*X[:,1]\n",
    "\n",
    "plt.plot(X[:,1], y_theory)\n",
    "\n",
    "plt.plot(X_train[:,1], y_train, '.')\n",
    "\n",
    "w = GD(X_train, y_train, eta=0.0001, alpha =0, epoches=100000)\n",
    "w_l2 = GD(X_train, y_train, eta=0.0001, alpha=0.00001, epoches=100000)\n",
    "w_linear = GD(X_train[:,:2], y_train, eta=0.001, alpha =0, epoches=1000000)\n",
    "\n",
    "w_linear = GD(X_train[:,:2], y_train, eta=0.001, epoches=100000)\n",
    "print(\"nonlinear\",w)\n",
    "print(\"l2\",w_l2)\n",
    "print(\"linear\",w_linear)\n",
    "\n",
    "y_model = np.dot(X,w)\n",
    "plt.plot(X[:,1], y_model)\n",
    "\n",
    "y_l2 = np.dot(X,w_l2)\n",
    "plt.plot(X[:,1], y_l2)\n",
    "\n",
    "plt.legend(['Theory', 'Train', 'Model', 'Regularized'])\n",
    "plt.xlabel('X')\n",
    "plt.ylabel('y')\n",
    "\n",
    "print('MSE on training set (non linear without l2):',mse(y_train, np.dot(X_train,w)))\n",
    "print('MSE on testing set (non linear without l2):',mse(y_test, np.dot(X_test,w)))\n",
    "\n",
    "print('MSE on training set (non linear with l2):',mse(y_train, np.dot(X_train,w_l2)))\n",
    "print('MSE on testing set (non linear with l2):',mse(y_test, np.dot(X_test,w_l2)))\n",
    "\n",
    "\n",
    "print('MSE on training set (linear):',mse(y_train, np.dot(X_train[:,:2],w_linear)))\n",
    "print('MSE on testing set (linear):',mse(y_test, np.dot(X_test[:,:2],w_linear)))"
   ]
  },
  {
   "cell_type": "code",
   "execution_count": 154,
   "metadata": {},
   "outputs": [
    {
     "data": {
      "text/plain": [
       "array([ 0.00088327,  0.00114882])"
      ]
     },
     "execution_count": 154,
     "metadata": {},
     "output_type": "execute_result"
    },
    {
     "data": {
      "image/png": "[encoded data removed]",
      "text/plain": [
       "<matplotlib.figure.Figure at 0x7f5ce8e936d8>"
      ]
     },
     "metadata": {},
     "output_type": "display_data"
    }
   ],
   "source": [
    "X = np.ones((30,2))\n",
    "X[:,1] = np.random.uniform(size=X.shape[0])*4-2\n",
    "y_t = X[:,0] + X[:,1]\n",
    "plt.plot(X[:,1],y_t,'.')\n",
    "\n",
    "GD(X,y_t)"
   ]
  },
  {
   "cell_type": "markdown",
   "metadata": {},
   "source": [
    "Now generate some other $x$ and $y$ pairs, add a normally distributed noise ($\\mu =0 $ $\\sigma = 0.1$) to $y$ and infer fitting parameters again. Plot the theory and fitted line. "
   ]
  },
  {
   "cell_type": "code",
   "execution_count": 158,
   "metadata": {},
   "outputs": [
    {
     "data": {
      "text/plain": [
       "[<matplotlib.lines.Line2D at 0x7f4dc06bb358>]"
      ]
     },
     "execution_count": 158,
     "metadata": {},
     "output_type": "execute_result"
    },
    {
     "data": {
      "image/png": "[encoded data removed]",
      "text/plain": [
       "<matplotlib.figure.Figure at 0x7f4dc148c7f0>"
      ]
     },
     "metadata": {},
     "output_type": "display_data"
    }
   ],
   "source": [
    "y_t += np.random.normal(0, 0.25, size=y_t.size)\n",
    "plt.plot(X[:,1],y_t, '.')"
   ]
  },
  {
   "cell_type": "code",
   "execution_count": 159,
   "metadata": {},
   "outputs": [
    {
     "data": {
      "text/plain": [
       "array([ 1.08133113,  1.02145338])"
      ]
     },
     "execution_count": 159,
     "metadata": {},
     "output_type": "execute_result"
    }
   ],
   "source": [
    "GD(X,y_t)"
   ]
  },
  {
   "cell_type": "code",
   "execution_count": 164,
   "metadata": {},
   "outputs": [
    {
     "data": {
      "text/plain": [
       "[<matplotlib.lines.Line2D at 0x7f4dc05072e8>]"
      ]
     },
     "execution_count": 164,
     "metadata": {},
     "output_type": "execute_result"
    },
    {
     "data": {
      "image/png": "[encoded data removed]",
      "text/plain": [
       "<matplotlib.figure.Figure at 0x7f4dc06c21d0>"
      ]
     },
     "metadata": {},
     "output_type": "display_data"
    }
   ],
   "source": [
    "y_t = X[:,0] - X[:,1] #+ X[:,1]**2\n",
    "plt.plot(X[:,1],y_t, '.')\n"
   ]
  },
  {
   "cell_type": "code",
   "execution_count": 169,
   "metadata": {},
   "outputs": [],
   "source": [
    "X_poly = np.ones((X.shape[0],6))\n",
    "X_poly[:,1] = X[:,1]\n",
    "X_poly[:,2] = X[:,1]**2\n",
    "X_poly[:,3] = X[:,1]**3\n",
    "X_poly[:,4] = X[:,1]**4\n",
    "X_poly[:,5] = X[:,1]**5\n",
    "w = GD(X_poly,y_t)\n",
    "w\n",
    "\n",
    "y_p = np.dot(X_poly,w)"
   ]
  },
  {
   "cell_type": "code",
   "execution_count": 170,
   "metadata": {},
   "outputs": [],
   "source": [
    "X_test = np.ones((100,2))\n",
    "X_test[:,1] = np.linspace(-2,2,X_test.shape[0])\n",
    "\n",
    "X_test_poly = np.ones((X_test.shape[0],6))\n",
    "X_test_poly[:,1] = X_test[:,1]\n",
    "X_test_poly[:,2] = X_test[:,1]**2\n",
    "X_test_poly[:,3] = X_test[:,1]**3\n",
    "X_test_poly[:,4] = X_test[:,1]**4\n",
    "X_test_poly[:,5] = X_test[:,1]**5\n",
    "\n",
    "\n",
    "y_test = np.dot(X_test_poly,w)"
   ]
  },
  {
   "cell_type": "code",
   "execution_count": 171,
   "metadata": {},
   "outputs": [
    {
     "data": {
      "text/plain": [
       "[<matplotlib.lines.Line2D at 0x7f4dc0400080>]"
      ]
     },
     "execution_count": 171,
     "metadata": {},
     "output_type": "execute_result"
    },
    {
     "data": {
      "image/png": "[encoded data removed]",
      "text/plain": [
       "<matplotlib.figure.Figure at 0x7f4dc0400be0>"
      ]
     },
     "metadata": {},
     "output_type": "display_data"
    }
   ],
   "source": [
    "plt.plot(X[:,1], y_p,'.')\n",
    "plt.plot(X_test_poly[:,1],y_test)"
   ]
  },
  {
   "cell_type": "code",
   "execution_count": 147,
   "metadata": {},
   "outputs": [
    {
     "data": {
      "text/plain": [
       "array([ 0.49340728, -0.67692261,  1.80731929, -0.20931306, -0.23766177,\n",
       "        0.01552974])"
      ]
     },
     "execution_count": 147,
     "metadata": {},
     "output_type": "execute_result"
    }
   ],
   "source": [
    "w"
   ]
  },
  {
   "cell_type": "code",
   "execution_count": 60,
   "metadata": {},
   "outputs": [
    {
     "name": "stdout",
     "output_type": "stream",
     "text": [
      "Help on function legend in module matplotlib.pyplot:\n",
      "\n",
      "legend(*args, **kwargs)\n",
      "    Places a legend on the axes.\n",
      "    \n",
      "    To make a legend for lines which already exist on the axes\n",
      "    (via plot for instance), simply call this function with an iterable\n",
      "    of strings, one for each legend item. For example::\n",
      "    \n",
      "        ax.plot([1, 2, 3])\n",
      "        ax.legend(['A simple line'])\n",
      "    \n",
      "    However, in order to keep the \"label\" and the legend element\n",
      "    instance together, it is preferable to specify the label either at\n",
      "    artist creation, or by calling the\n",
      "    :meth:`~matplotlib.artist.Artist.set_label` method on the artist::\n",
      "    \n",
      "        line, = ax.plot([1, 2, 3], label='Inline label')\n",
      "        # Overwrite the label by calling the method.\n",
      "        line.set_label('Label via method')\n",
      "        ax.legend()\n",
      "    \n",
      "    Specific lines can be excluded from the automatic legend element\n",
      "    selection by defining a label starting with an underscore.\n",
      "    This is default for all artists, so calling :meth:`legend` without\n",
      "    any arguments and without setting the labels manually will result in\n",
      "    no legend being drawn.\n",
      "    \n",
      "    For full control of which artists have a legend entry, it is possible\n",
      "    to pass an iterable of legend artists followed by an iterable of\n",
      "    legend labels respectively::\n",
      "    \n",
      "       legend((line1, line2, line3), ('label1', 'label2', 'label3'))\n",
      "    \n",
      "    Parameters\n",
      "    ----------\n",
      "    loc : int or string or pair of floats, default: 'upper right'\n",
      "        The location of the legend. Possible codes are:\n",
      "    \n",
      "            ===============   =============\n",
      "            Location String   Location Code\n",
      "            ===============   =============\n",
      "            'best'            0\n",
      "            'upper right'     1\n",
      "            'upper left'      2\n",
      "            'lower left'      3\n",
      "            'lower right'     4\n",
      "            'right'           5\n",
      "            'center left'     6\n",
      "            'center right'    7\n",
      "            'lower center'    8\n",
      "            'upper center'    9\n",
      "            'center'          10\n",
      "            ===============   =============\n",
      "    \n",
      "    \n",
      "        Alternatively can be a 2-tuple giving ``x, y`` of the lower-left\n",
      "        corner of the legend in axes coordinates (in which case\n",
      "        ``bbox_to_anchor`` will be ignored).\n",
      "    \n",
      "    bbox_to_anchor : :class:`matplotlib.transforms.BboxBase` instance or tuple of floats\n",
      "        Specify any arbitrary location for the legend in `bbox_transform`\n",
      "        coordinates (default Axes coordinates).\n",
      "    \n",
      "        For example, to put the legend's upper right hand corner in the\n",
      "        center of the axes the following keywords can be used::\n",
      "    \n",
      "           loc='upper right', bbox_to_anchor=(0.5, 0.5)\n",
      "    \n",
      "    ncol : integer\n",
      "        The number of columns that the legend has. Default is 1.\n",
      "    \n",
      "    prop : None or :class:`matplotlib.font_manager.FontProperties` or dict\n",
      "        The font properties of the legend. If None (default), the current\n",
      "        :data:`matplotlib.rcParams` will be used.\n",
      "    \n",
      "    fontsize : int or float or {'xx-small', 'x-small', 'small', 'medium', 'large', 'x-large', 'xx-large'}\n",
      "        Controls the font size of the legend. If the value is numeric the\n",
      "        size will be the absolute font size in points. String values are\n",
      "        relative to the current default font size. This argument is only\n",
      "        used if `prop` is not specified.\n",
      "    \n",
      "    numpoints : None or int\n",
      "        The number of marker points in the legend when creating a legend\n",
      "        entry for a line/:class:`matplotlib.lines.Line2D`.\n",
      "        Default is ``None`` which will take the value from the\n",
      "        ``legend.numpoints`` :data:`rcParam<matplotlib.rcParams>`.\n",
      "    \n",
      "    scatterpoints : None or int\n",
      "        The number of marker points in the legend when creating a legend\n",
      "        entry for a scatter plot/\n",
      "        :class:`matplotlib.collections.PathCollection`.\n",
      "        Default is ``None`` which will take the value from the\n",
      "        ``legend.scatterpoints`` :data:`rcParam<matplotlib.rcParams>`.\n",
      "    \n",
      "    scatteryoffsets : iterable of floats\n",
      "        The vertical offset (relative to the font size) for the markers\n",
      "        created for a scatter plot legend entry. 0.0 is at the base the\n",
      "        legend text, and 1.0 is at the top. To draw all markers at the\n",
      "        same height, set to ``[0.5]``. Default ``[0.375, 0.5, 0.3125]``.\n",
      "    \n",
      "    markerscale : None or int or float\n",
      "        The relative size of legend markers compared with the originally\n",
      "        drawn ones. Default is ``None`` which will take the value from\n",
      "        the ``legend.markerscale`` :data:`rcParam <matplotlib.rcParams>`.\n",
      "    \n",
      "    markerfirst : bool\n",
      "        if *True*, legend marker is placed to the left of the legend label\n",
      "        if *False*, legend marker is placed to the right of the legend\n",
      "        label\n",
      "    \n",
      "    frameon : None or bool\n",
      "        Control whether the legend should be drawn on a patch (frame).\n",
      "        Default is ``None`` which will take the value from the\n",
      "        ``legend.frameon`` :data:`rcParam<matplotlib.rcParams>`.\n",
      "    \n",
      "    fancybox : None or bool\n",
      "        Control whether round edges should be enabled around\n",
      "        the :class:`~matplotlib.patches.FancyBboxPatch` which\n",
      "        makes up the legend's background.\n",
      "        Default is ``None`` which will take the value from the\n",
      "        ``legend.fancybox`` :data:`rcParam<matplotlib.rcParams>`.\n",
      "    \n",
      "    shadow : None or bool\n",
      "        Control whether to draw a shadow behind the legend.\n",
      "        Default is ``None`` which will take the value from the\n",
      "        ``legend.shadow`` :data:`rcParam<matplotlib.rcParams>`.\n",
      "    \n",
      "    framealpha : None or float\n",
      "        Control the alpha transparency of the legend's background.\n",
      "        Default is ``None`` which will take the value from the\n",
      "        ``legend.framealpha`` :data:`rcParam<matplotlib.rcParams>`.\n",
      "    \n",
      "    facecolor : None or \"inherit\" or a color spec\n",
      "        Control the legend's background color.\n",
      "        Default is ``None`` which will take the value from the\n",
      "        ``legend.facecolor`` :data:`rcParam<matplotlib.rcParams>`.\n",
      "        If ``\"inherit\"``, it will take the ``axes.facecolor``\n",
      "        :data:`rcParam<matplotlib.rcParams>`.\n",
      "    \n",
      "    edgecolor : None or \"inherit\" or a color spec\n",
      "        Control the legend's background patch edge color.\n",
      "        Default is ``None`` which will take the value from the\n",
      "        ``legend.edgecolor`` :data:`rcParam<matplotlib.rcParams>`.\n",
      "        If ``\"inherit\"``, it will take the ``axes.edgecolor``\n",
      "        :data:`rcParam<matplotlib.rcParams>`.\n",
      "    \n",
      "    mode : {\"expand\", None}\n",
      "        If `mode` is set to ``\"expand\"`` the legend will be horizontally\n",
      "        expanded to fill the axes area (or `bbox_to_anchor` if defines\n",
      "        the legend's size).\n",
      "    \n",
      "    bbox_transform : None or :class:`matplotlib.transforms.Transform`\n",
      "        The transform for the bounding box (`bbox_to_anchor`). For a value\n",
      "        of ``None`` (default) the Axes'\n",
      "        :data:`~matplotlib.axes.Axes.transAxes` transform will be used.\n",
      "    \n",
      "    title : str or None\n",
      "        The legend's title. Default is no title (``None``).\n",
      "    \n",
      "    borderpad : float or None\n",
      "        The fractional whitespace inside the legend border.\n",
      "        Measured in font-size units.\n",
      "        Default is ``None`` which will take the value from the\n",
      "        ``legend.borderpad`` :data:`rcParam<matplotlib.rcParams>`.\n",
      "    \n",
      "    labelspacing : float or None\n",
      "        The vertical space between the legend entries.\n",
      "        Measured in font-size units.\n",
      "        Default is ``None`` which will take the value from the\n",
      "        ``legend.labelspacing`` :data:`rcParam<matplotlib.rcParams>`.\n",
      "    \n",
      "    handlelength : float or None\n",
      "        The length of the legend handles.\n",
      "        Measured in font-size units.\n",
      "        Default is ``None`` which will take the value from the\n",
      "        ``legend.handlelength`` :data:`rcParam<matplotlib.rcParams>`.\n",
      "    \n",
      "    handletextpad : float or None\n",
      "        The pad between the legend handle and text.\n",
      "        Measured in font-size units.\n",
      "        Default is ``None`` which will take the value from the\n",
      "        ``legend.handletextpad`` :data:`rcParam<matplotlib.rcParams>`.\n",
      "    \n",
      "    borderaxespad : float or None\n",
      "        The pad between the axes and legend border.\n",
      "        Measured in font-size units.\n",
      "        Default is ``None`` which will take the value from the\n",
      "        ``legend.borderaxespad`` :data:`rcParam<matplotlib.rcParams>`.\n",
      "    \n",
      "    columnspacing : float or None\n",
      "        The spacing between columns.\n",
      "        Measured in font-size units.\n",
      "        Default is ``None`` which will take the value from the\n",
      "        ``legend.columnspacing`` :data:`rcParam<matplotlib.rcParams>`.\n",
      "    \n",
      "    handler_map : dict or None\n",
      "        The custom dictionary mapping instances or types to a legend\n",
      "        handler. This `handler_map` updates the default handler map\n",
      "        found at :func:`matplotlib.legend.Legend.get_legend_handler_map`.\n",
      "    \n",
      "    Notes\n",
      "    -----\n",
      "    \n",
      "    Not all kinds of artist are supported by the legend command.\n",
      "    See :ref:`plotting-guide-legend` for details.\n",
      "    \n",
      "    Examples\n",
      "    --------\n",
      "    \n",
      "    .. plot:: mpl_examples/api/legend_demo.py\n",
      "\n"
     ]
    }
   ],
   "source": [
    "help(plt.legend)"
   ]
  },
  {
   "cell_type": "code",
   "execution_count": 176,
   "metadata": {},
   "outputs": [
    {
     "data": {
      "text/plain": [
       "array([ 1.,  1., -1.,  1.,  1., -1.])"
      ]
     },
     "execution_count": 176,
     "metadata": {},
     "output_type": "execute_result"
    }
   ],
   "source": [
    "2*(w>0).astype(float)-1"
   ]
  },
  {
   "cell_type": "code",
   "execution_count": 172,
   "metadata": {},
   "outputs": [
    {
     "data": {
      "text/plain": [
       "array([ 1.35437434,  0.26317797, -1.14618088,  1.37619932,  0.79938663,\n",
       "       -0.48587002])"
      ]
     },
     "execution_count": 172,
     "metadata": {},
     "output_type": "execute_result"
    }
   ],
   "source": [
    "w * 1"
   ]
  },
  {
   "cell_type": "code",
   "execution_count": null,
   "metadata": {},
   "outputs": [],
   "source": []
  }
 ],
 "metadata": {
  "kernelspec": {
   "display_name": "Python 3",
   "language": "python",
   "name": "python3"
  },
  "language_info": {
   "codemirror_mode": {
    "name": "ipython",
    "version": 3
   },
   "file_extension": ".py",
   "mimetype": "text/x-python",
   "name": "python",
   "nbconvert_exporter": "python",
   "pygments_lexer": "ipython3",
   "version": "3.6.4"
  }
 },
 "nbformat": 4,
 "nbformat_minor": 2
}
